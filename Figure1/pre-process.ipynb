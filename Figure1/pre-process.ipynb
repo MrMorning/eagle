{
 "cells": [
  {
   "cell_type": "code",
   "execution_count": 1,
   "metadata": {},
   "outputs": [],
   "source": [
    "import numpy as np\n",
    "import matplotlib.pyplot as plt\n",
    "import os\n",
    "import skimage.io as io\n",
    "from skimage.transform import rescale, resize, downscale_local_mean"
   ]
  },
  {
   "cell_type": "code",
   "execution_count": 2,
   "metadata": {},
   "outputs": [
    {
     "data": {
      "image/png": "[encoded data removed]",
      "text/plain": [
       "<Figure size 432x288 with 1 Axes>"
      ]
     },
     "metadata": {
      "needs_background": "light"
     },
     "output_type": "display_data"
    }
   ],
   "source": [
    "img = io.imread('./1.gif')\n",
    "plt.imshow(img)\n",
    "plt.show()"
   ]
  },
  {
   "cell_type": "code",
   "execution_count": 3,
   "metadata": {},
   "outputs": [],
   "source": [
    "images = []\n",
    "for image in os.listdir('.'):\n",
    "    if(image.split('.')[-1] == 'gif'):\n",
    "        img = io.imread('./' + image)\n",
    "        img = resize(img, (587, 48), anti_aliasing=True)\n",
    "        images.append(img)"
   ]
  },
  {
   "cell_type": "code",
   "execution_count": 4,
   "metadata": {},
   "outputs": [
    {
     "data": {
      "text/plain": [
       "<function matplotlib.pyplot.axis(*args, **kwargs)>"
      ]
     },
     "execution_count": 4,
     "metadata": {},
     "output_type": "execute_result"
    }
   ],
   "source": [
    "plt.axis"
   ]
  },
  {
   "cell_type": "code",
   "execution_count": 5,
   "metadata": {},
   "outputs": [],
   "source": [
    "def rgb2tf(img):\n",
    "    img2 = np.zeros(img.shape[:-1])\n",
    "    for x in range(img.shape[0]):\n",
    "        for y in range(img.shape[1]):\n",
    "            if np.any(img[x, y, :] - np.array([1, 1, 1, 0])):\n",
    "                img2[x, y] = 1\n",
    "            else:\n",
    "                img2[x, y] = 0\n",
    "    return img2"
   ]
  },
  {
   "cell_type": "code",
   "execution_count": 6,
   "metadata": {},
   "outputs": [
    {
     "data": {
      "text/plain": [
       "35"
      ]
     },
     "execution_count": 6,
     "metadata": {},
     "output_type": "execute_result"
    }
   ],
   "source": [
    "n = len(images)\n",
    "n"
   ]
  },
  {
   "cell_type": "code",
   "execution_count": 25,
   "metadata": {},
   "outputs": [],
   "source": [
    "def show(img):\n",
    "    plt.imshow(img)\n",
    "    plt.axis('off')    \n",
    "    plt.show()\n"
   ]
  },
  {
   "cell_type": "code",
   "execution_count": 8,
   "metadata": {},
   "outputs": [
    {
     "data": {
      "text/plain": [
       "(587, 48, 4)"
      ]
     },
     "execution_count": 8,
     "metadata": {},
     "output_type": "execute_result"
    }
   ],
   "source": [
    "images[0].shape"
   ]
  },
  {
   "cell_type": "code",
   "execution_count": 9,
   "metadata": {},
   "outputs": [
    {
     "data": {
      "image/png": "[encoded data removed]",
      "text/plain": [
       "<Figure size 432x288 with 1 Axes>"
      ]
     },
     "metadata": {
      "needs_background": "light"
     },
     "output_type": "display_data"
    },
    {
     "data": {
      "image/png": "[encoded data removed]",
      "text/plain": [
       "<Figure size 432x288 with 1 Axes>"
      ]
     },
     "metadata": {
      "needs_background": "light"
     },
     "output_type": "display_data"
    }
   ],
   "source": [
    "show(images[0])"
   ]
  },
  {
   "cell_type": "code",
   "execution_count": 10,
   "metadata": {},
   "outputs": [
    {
     "data": {
      "text/plain": [
       "array([0.78823529, 0.79215686, 0.79215686, 1.        ])"
      ]
     },
     "execution_count": 10,
     "metadata": {},
     "output_type": "execute_result"
    }
   ],
   "source": [
    "images[0][335, -1]"
   ]
  },
  {
   "cell_type": "code",
   "execution_count": 11,
   "metadata": {},
   "outputs": [
    {
     "data": {
      "text/plain": [
       "1.0"
      ]
     },
     "execution_count": 11,
     "metadata": {},
     "output_type": "execute_result"
    }
   ],
   "source": [
    "rgb2tf(images[0])[100, 25]"
   ]
  },
  {
   "cell_type": "code",
   "execution_count": 12,
   "metadata": {},
   "outputs": [
    {
     "data": {
      "image/png": "[encoded data removed]",
      "text/plain": [
       "<Figure size 432x288 with 1 Axes>"
      ]
     },
     "metadata": {
      "needs_background": "light"
     },
     "output_type": "display_data"
    },
    {
     "data": {
      "image/png": "[encoded data removed]",
      "text/plain": [
       "<Figure size 432x288 with 1 Axes>"
      ]
     },
     "metadata": {
      "needs_background": "light"
     },
     "output_type": "display_data"
    }
   ],
   "source": [
    "show(rgb2tf(images[0]))"
   ]
  },
  {
   "cell_type": "code",
   "execution_count": 13,
   "metadata": {},
   "outputs": [
    {
     "data": {
      "text/plain": [
       "array([1., 1., 1., 0.])"
      ]
     },
     "execution_count": 13,
     "metadata": {},
     "output_type": "execute_result"
    }
   ],
   "source": [
    "images[0][0, 25, :]"
   ]
  },
  {
   "cell_type": "code",
   "execution_count": 14,
   "metadata": {},
   "outputs": [],
   "source": [
    "def calc_diff(i, j):\n",
    "    img1 = np.sum(rgb2tf(images[i])[:, 47] > 0)\n",
    "    img2 = np.sum(rgb2tf(images[j])[:, 0] > 0)\n",
    "    return abs(img1 - img2)"
   ]
  },
  {
   "cell_type": "code",
   "execution_count": 15,
   "metadata": {},
   "outputs": [],
   "source": [
    "eps = 0.01\n",
    "def calc_diff2(i, j):\n",
    "    iright = np.array([0., 0., 0.])\n",
    "    cnt = 0.\n",
    "    for x in range(images[i].shape[0]):\n",
    "        color = images[i][x, -1, :-1].reshape((3,))\n",
    "        if abs(color[0] - 1) > eps:\n",
    "            if np.max(np.abs(color - np.array([0.78823529, 0.79215686, 0.79215686]))) < eps:\n",
    "                continue\n",
    "            iright += color\n",
    "            cnt += 1.\n",
    "#     print(iright)\n",
    "    iright /= cnt\n",
    "    cnt = 0.\n",
    "    jleft = np.array([0., 0., 0.])\n",
    "    for x in range(images[j].shape[0]):\n",
    "        color = images[j][x, 0, :-1].reshape((3,))\n",
    "        if abs(color[0] - 1) > eps:\n",
    "            if np.max(np.abs(color - np.array([0.78823529, 0.79215686, 0.79215686]))) < eps:\n",
    "                continue\n",
    "            jleft += color\n",
    "            cnt += 1.\n",
    "    jleft /= cnt\n",
    "#     print(jleft)\n",
    "    return np.mean(np.abs(iright-jleft))"
   ]
  },
  {
   "cell_type": "code",
   "execution_count": 16,
   "metadata": {},
   "outputs": [
    {
     "name": "stdout",
     "output_type": "stream",
     "text": [
      "0.03399132941616549\n",
      "0.36942917739486275\n"
     ]
    }
   ],
   "source": [
    "print(calc_diff2(11, 9))\n",
    "print(calc_diff2(11, 22))\n"
   ]
  },
  {
   "cell_type": "code",
   "execution_count": 17,
   "metadata": {},
   "outputs": [
    {
     "name": "stdout",
     "output_type": "stream",
     "text": [
      "   0\n",
      "   1\n",
      "   2\n",
      "   3\n",
      "   4\n",
      "   5\n",
      "   6\n",
      "   7\n",
      "   8\n",
      "   9\n",
      "   10\n",
      "   12\n",
      "   13\n",
      "   14\n",
      "   15\n",
      "   16\n",
      "   17\n",
      "   18\n",
      "   19\n",
      "   20\n",
      "   21\n",
      "   22\n",
      "   23\n",
      "   24\n",
      "   25\n",
      "   26\n",
      "   27\n",
      "   28\n",
      "   29\n",
      "   30\n",
      "   31\n",
      "   32\n",
      "   33\n",
      "   34\n",
      "11:9\n",
      "   0\n",
      "   1\n",
      "   2\n",
      "   3\n",
      "   4\n",
      "   5\n",
      "   6\n",
      "   7\n",
      "   8\n",
      "   10\n",
      "   12\n",
      "   13\n",
      "   14\n",
      "   15\n",
      "   16\n",
      "   17\n",
      "   18\n",
      "   19\n",
      "   20\n",
      "   21\n",
      "   22\n",
      "   23\n",
      "   24\n",
      "   25\n",
      "   26\n",
      "   27\n",
      "   28\n",
      "   29\n",
      "   30\n",
      "   31\n",
      "   32\n",
      "   33\n",
      "   34\n",
      "9:27\n",
      "   0\n",
      "   1\n",
      "   2\n",
      "   3\n",
      "   4\n",
      "   5\n",
      "   6\n",
      "   7\n",
      "   8\n",
      "   10\n",
      "   12\n",
      "   13\n",
      "   14\n",
      "   15\n",
      "   16\n",
      "   17\n",
      "   18\n",
      "   19\n",
      "   20\n",
      "   21\n",
      "   22\n",
      "   23\n",
      "   24\n",
      "   25\n",
      "   26\n",
      "   28\n",
      "   29\n",
      "   30\n",
      "   31\n",
      "   32\n",
      "   33\n",
      "   34\n",
      "27:3\n",
      "   0\n",
      "   1\n",
      "   2\n",
      "   4\n",
      "   5\n",
      "   6\n",
      "   7\n",
      "   8\n",
      "   10\n",
      "   12\n",
      "   13\n",
      "   14\n",
      "   15\n",
      "   16\n",
      "   17\n",
      "   18\n",
      "   19\n",
      "   20\n",
      "   21\n",
      "   22\n",
      "   23\n",
      "   24\n",
      "   25\n",
      "   26\n",
      "   28\n",
      "   29\n",
      "   30\n",
      "   31\n",
      "   32\n",
      "   33\n",
      "   34\n",
      "3:28\n",
      "   0\n",
      "   1\n",
      "   2\n",
      "   4\n",
      "   5\n",
      "   6\n",
      "   7\n",
      "   8\n",
      "   10\n",
      "   12\n",
      "   13\n",
      "   14\n",
      "   15\n",
      "   16\n",
      "   17\n",
      "   18\n",
      "   19\n",
      "   20\n",
      "   21\n",
      "   22\n",
      "   23\n",
      "   24\n",
      "   25\n",
      "   26\n",
      "   29\n",
      "   30\n",
      "   31\n",
      "   32\n",
      "   33\n",
      "   34\n",
      "28:33\n",
      "   0\n",
      "   1\n",
      "   2\n",
      "   4\n",
      "   5\n",
      "   6\n",
      "   7\n",
      "   8\n",
      "   10\n",
      "   12\n",
      "   13\n",
      "   14\n",
      "   15\n",
      "   16\n",
      "   17\n",
      "   18\n",
      "   19\n",
      "   20\n",
      "   21\n",
      "   22\n",
      "   23\n",
      "   24\n",
      "   25\n",
      "   26\n",
      "   29\n",
      "   30\n",
      "   31\n",
      "   32\n",
      "   34\n",
      "33:10\n",
      "   0\n",
      "   1\n",
      "   2\n",
      "   4\n",
      "   5\n",
      "   6\n",
      "   7\n",
      "   8\n",
      "   12\n",
      "   13\n",
      "   14\n",
      "   15\n",
      "   16\n",
      "   17\n",
      "   18\n",
      "   19\n",
      "   20\n",
      "   21\n",
      "   22\n",
      "   23\n",
      "   24\n",
      "   25\n",
      "   26\n",
      "   29\n",
      "   30\n",
      "   31\n",
      "   32\n",
      "   34\n",
      "10:0\n",
      "   1\n",
      "   2\n",
      "   4\n",
      "   5\n",
      "   6\n",
      "   7\n",
      "   8\n",
      "   12\n",
      "   13\n",
      "   14\n",
      "   15\n",
      "   16\n",
      "   17\n",
      "   18\n",
      "   19\n",
      "   20\n",
      "   21\n",
      "   22\n",
      "   23\n",
      "   24\n",
      "   25\n",
      "   26\n",
      "   29\n",
      "   30\n",
      "   31\n",
      "   32\n",
      "   34\n",
      "0:24\n",
      "   1\n",
      "   2\n",
      "   4\n",
      "   5\n",
      "   6\n",
      "   7\n",
      "   8\n",
      "   12\n",
      "   13\n",
      "   14\n",
      "   15\n",
      "   16\n",
      "   17\n",
      "   18\n",
      "   19\n",
      "   20\n",
      "   21\n",
      "   22\n",
      "   23\n",
      "   25\n",
      "   26\n",
      "   29\n",
      "   30\n",
      "   31\n",
      "   32\n",
      "   34\n",
      "24:12\n",
      "   1\n",
      "   2\n",
      "   4\n",
      "   5\n",
      "   6\n",
      "   7\n",
      "   8\n",
      "   13\n",
      "   14\n",
      "   15\n",
      "   16\n",
      "   17\n",
      "   18\n",
      "   19\n",
      "   20\n",
      "   21\n",
      "   22\n",
      "   23\n",
      "   25\n",
      "   26\n",
      "   29\n",
      "   30\n",
      "   31\n",
      "   32\n",
      "   34\n",
      "12:5\n",
      "   1\n",
      "   2\n",
      "   4\n",
      "   6\n",
      "   7\n",
      "   8\n",
      "   13\n",
      "   14\n",
      "   15\n",
      "   16\n",
      "   17\n",
      "   18\n",
      "   19\n",
      "   20\n",
      "   21\n",
      "   22\n",
      "   23\n",
      "   25\n",
      "   26\n",
      "   29\n",
      "   30\n",
      "   31\n",
      "   32\n",
      "   34\n",
      "5:16\n",
      "   1\n",
      "   2\n",
      "   4\n",
      "   6\n",
      "   7\n",
      "   8\n",
      "   13\n",
      "   14\n",
      "   15\n",
      "   17\n",
      "   18\n",
      "   19\n",
      "   20\n",
      "   21\n",
      "   22\n",
      "   23\n",
      "   25\n",
      "   26\n",
      "   29\n",
      "   30\n",
      "   31\n",
      "   32\n",
      "   34\n",
      "16:4\n",
      "   1\n",
      "   2\n",
      "   6\n",
      "   7\n",
      "   8\n",
      "   13\n",
      "   14\n",
      "   15\n",
      "   17\n",
      "   18\n",
      "   19\n",
      "   20\n",
      "   21\n",
      "   22\n",
      "   23\n",
      "   25\n",
      "   26\n",
      "   29\n",
      "   30\n",
      "   31\n",
      "   32\n",
      "   34\n",
      "4:19\n",
      "   1\n",
      "   2\n",
      "   6\n",
      "   7\n",
      "   8\n",
      "   13\n",
      "   14\n",
      "   15\n",
      "   17\n",
      "   18\n",
      "   20\n",
      "   21\n",
      "   22\n",
      "   23\n",
      "   25\n",
      "   26\n",
      "   29\n",
      "   30\n",
      "   31\n",
      "   32\n",
      "   34\n",
      "19:34\n",
      "   1\n",
      "   2\n",
      "   6\n",
      "   7\n",
      "   8\n",
      "   13\n",
      "   14\n",
      "   15\n",
      "   17\n",
      "   18\n",
      "   20\n",
      "   21\n",
      "   22\n",
      "   23\n",
      "   25\n",
      "   26\n",
      "   29\n",
      "   30\n",
      "   31\n",
      "   32\n",
      "34:30\n",
      "   1\n",
      "   2\n",
      "   6\n",
      "   7\n",
      "   8\n",
      "   13\n",
      "   14\n",
      "   15\n",
      "   17\n",
      "   18\n",
      "   20\n",
      "   21\n",
      "   22\n",
      "   23\n",
      "   25\n",
      "   26\n",
      "   29\n",
      "   31\n",
      "   32\n",
      "30:21\n",
      "   1\n",
      "   2\n",
      "   6\n",
      "   7\n",
      "   8\n",
      "   13\n",
      "   14\n",
      "   15\n",
      "   17\n",
      "   18\n",
      "   20\n",
      "   22\n",
      "   23\n",
      "   25\n",
      "   26\n",
      "   29\n",
      "   31\n",
      "   32\n",
      "21:31\n",
      "   1\n",
      "   2\n",
      "   6\n",
      "   7\n",
      "   8\n",
      "   13\n",
      "   14\n",
      "   15\n",
      "   17\n",
      "   18\n",
      "   20\n",
      "   22\n",
      "   23\n",
      "   25\n",
      "   26\n",
      "   29\n",
      "   32\n",
      "31:13\n",
      "   1\n",
      "   2\n",
      "   6\n",
      "   7\n",
      "   8\n",
      "   14\n",
      "   15\n",
      "   17\n",
      "   18\n",
      "   20\n",
      "   22\n",
      "   23\n",
      "   25\n",
      "   26\n",
      "   29\n",
      "   32\n",
      "13:7\n",
      "   1\n",
      "   2\n",
      "   6\n",
      "   8\n",
      "   14\n",
      "   15\n",
      "   17\n",
      "   18\n",
      "   20\n",
      "   22\n",
      "   23\n",
      "   25\n",
      "   26\n",
      "   29\n",
      "   32\n",
      "7:29\n",
      "   1\n",
      "   2\n",
      "   6\n",
      "   8\n",
      "   14\n",
      "   15\n",
      "   17\n",
      "   18\n",
      "   20\n",
      "   22\n",
      "   23\n",
      "   25\n",
      "   26\n",
      "   32\n",
      "29:20\n",
      "   1\n",
      "   2\n",
      "   6\n",
      "   8\n",
      "   14\n",
      "   15\n",
      "   17\n",
      "   18\n",
      "   22\n",
      "   23\n",
      "   25\n",
      "   26\n",
      "   32\n",
      "20:2\n",
      "   1\n",
      "   6\n",
      "   8\n",
      "   14\n",
      "   15\n",
      "   17\n",
      "   18\n",
      "   22\n",
      "   23\n",
      "   25\n",
      "   26\n",
      "   32\n",
      "2:18\n",
      "   1\n",
      "   6\n",
      "   8\n",
      "   14\n",
      "   15\n",
      "   17\n",
      "   22\n",
      "   23\n",
      "   25\n",
      "   26\n",
      "   32\n",
      "18:22\n",
      "   1\n",
      "   6\n",
      "   8\n",
      "   14\n",
      "   15\n",
      "   17\n",
      "   23\n",
      "   25\n",
      "   26\n",
      "   32\n",
      "22:32\n",
      "   1\n",
      "   6\n",
      "   8\n",
      "   14\n",
      "   15\n",
      "   17\n",
      "   23\n",
      "   25\n",
      "   26\n",
      "32:26\n",
      "   1\n",
      "   6\n",
      "   8\n",
      "   14\n",
      "   15\n",
      "   17\n",
      "   23\n",
      "   25\n",
      "26:1\n",
      "   6\n",
      "   8\n",
      "   14\n",
      "   15\n",
      "   17\n",
      "   23\n",
      "   25\n",
      "1:15\n",
      "   6\n",
      "   8\n",
      "   14\n",
      "   17\n",
      "   23\n",
      "   25\n",
      "15:23\n",
      "   6\n",
      "   8\n",
      "   14\n",
      "   17\n",
      "   25\n",
      "23:25\n",
      "   6\n",
      "   8\n",
      "   14\n",
      "   17\n",
      "25:17\n",
      "   6\n",
      "   8\n",
      "   14\n",
      "17:6\n",
      "   8\n",
      "   14\n",
      "6:14\n",
      "   8\n",
      "14:8\n"
     ]
    },
    {
     "data": {
      "text/plain": [
       "[11,\n",
       " 9,\n",
       " 27,\n",
       " 3,\n",
       " 28,\n",
       " 33,\n",
       " 10,\n",
       " 0,\n",
       " 24,\n",
       " 12,\n",
       " 5,\n",
       " 16,\n",
       " 4,\n",
       " 19,\n",
       " 34,\n",
       " 30,\n",
       " 21,\n",
       " 31,\n",
       " 13,\n",
       " 7,\n",
       " 29,\n",
       " 20,\n",
       " 2,\n",
       " 18,\n",
       " 22,\n",
       " 32,\n",
       " 26,\n",
       " 1,\n",
       " 15,\n",
       " 23,\n",
       " 25,\n",
       " 17,\n",
       " 6,\n",
       " 14,\n",
       " 8]"
      ]
     },
     "execution_count": 17,
     "metadata": {},
     "output_type": "execute_result"
    }
   ],
   "source": [
    "ans = [11]\n",
    "vis = np.zeros((n, ))\n",
    "vis[11] = 1\n",
    "for i in range(n-1):\n",
    "    ansj = -1\n",
    "    minval = 1000000000000\n",
    "    for j in range(n):\n",
    "        if(j == ans[i]):\n",
    "            continue\n",
    "        elif(vis[j] == 1):\n",
    "            continue\n",
    "        else:\n",
    "            if(ansj == -1):\n",
    "                minval = calc_diff2(ans[i], j)\n",
    "                ansj = j\n",
    "            elif(calc_diff2(ans[i], j) < minval):\n",
    "                minval = calc_diff2(ans[i], j)\n",
    "                ansj = j\n",
    "        print('   ' + str(j))\n",
    "    ans.append(ansj)\n",
    "    print(str(ans[i]) + ':' + str(ansj))\n",
    "    vis[ansj] = 1\n",
    "ans\n",
    "        "
   ]
  },
  {
   "cell_type": "code",
   "execution_count": 18,
   "metadata": {},
   "outputs": [
    {
     "data": {
      "image/png": "[encoded data removed]",
      "text/plain": [
       "<Figure size 432x288 with 1 Axes>"
      ]
     },
     "metadata": {
      "needs_background": "light"
     },
     "output_type": "display_data"
    },
    {
     "data": {
      "image/png": "[encoded data removed]",
      "text/plain": [
       "<Figure size 432x288 with 1 Axes>"
      ]
     },
     "metadata": {
      "needs_background": "light"
     },
     "output_type": "display_data"
    }
   ],
   "source": [
    "# ans = [11, 9]\n",
    "big_image = np.copy(images[ans[0]])\n",
    "for i in range(1, len(ans)):\n",
    "    big_image = np.concatenate((big_image, images[ans[i]]), axis = 1)\n",
    "show(big_image)"
   ]
  },
  {
   "cell_type": "code",
   "execution_count": 19,
   "metadata": {},
   "outputs": [],
   "source": [
    "ans = range(n)"
   ]
  },
  {
   "cell_type": "code",
   "execution_count": 20,
   "metadata": {},
   "outputs": [
    {
     "data": {
      "image/png": "[encoded data removed]",
      "text/plain": [
       "<Figure size 432x288 with 1 Axes>"
      ]
     },
     "metadata": {
      "needs_background": "light"
     },
     "output_type": "display_data"
    },
    {
     "data": {
      "image/png": "[encoded data removed]",
      "text/plain": [
       "<Figure size 432x288 with 1 Axes>"
      ]
     },
     "metadata": {
      "needs_background": "light"
     },
     "output_type": "display_data"
    }
   ],
   "source": [
    "# ans = [11, 9]\n",
    "big_image = np.copy(images[ans[0]])\n",
    "for i in range(1, len(ans)):\n",
    "    big_image = np.concatenate((big_image, images[ans[i]]), axis = 1)\n",
    "show(big_image)"
   ]
  },
  {
   "cell_type": "code",
   "execution_count": 21,
   "metadata": {},
   "outputs": [
    {
     "data": {
      "image/png": "[encoded data removed]",
      "text/plain": [
       "<Figure size 432x288 with 1 Axes>"
      ]
     },
     "metadata": {
      "needs_background": "light"
     },
     "output_type": "display_data"
    },
    {
     "data": {
      "image/png": "[encoded data removed]",
      "text/plain": [
       "<Figure size 432x288 with 1 Axes>"
      ]
     },
     "metadata": {
      "needs_background": "light"
     },
     "output_type": "display_data"
    },
    {
     "data": {
      "image/png": "[encoded data removed]",
      "text/plain": [
       "<Figure size 432x288 with 1 Axes>"
      ]
     },
     "metadata": {
      "needs_background": "light"
     },
     "output_type": "display_data"
    },
    {
     "data": {
      "image/png": "[encoded data removed]",
      "text/plain": [
       "<Figure size 432x288 with 1 Axes>"
      ]
     },
     "metadata": {
      "needs_background": "light"
     },
     "output_type": "display_data"
    }
   ],
   "source": [
    "show(images[1])\n",
    "show(images[10])\n",
    "show(images[34])"
   ]
  },
  {
   "cell_type": "code",
   "execution_count": 22,
   "metadata": {},
   "outputs": [],
   "source": [
    "def merge(img1, img2):\n",
    "    eps = 0.1\n",
    "    right_most_vector = img1[:, -1, :]\n",
    "    ansi = -1\n",
    "    for i in range(img2.shape[1]):\n",
    "        if(np.max(np.abs(right_most_vector - img2[:, i, :])) < eps):\n",
    "            ansi = i\n",
    "            break\n",
    "    return ansi"
   ]
  },
  {
   "cell_type": "code",
   "execution_count": 23,
   "metadata": {},
   "outputs": [],
   "source": [
    "# ans = [11, 9]\n",
    "big_image = np.copy(images[11])\n",
    "last_id = 11\n",
    "for i in range(1, n):\n",
    "    for j in range(n):\n",
    "        if(j == last_id):\n",
    "            continue\n",
    "        anspos = merge(images[last_id], images[j])\n",
    "        if(anspos != -1):\n",
    "            big_image = np.concatenate((big_image, images[j][:, anspos+1:, :]), axis = 1)\n",
    "            last_id = j\n",
    "            break\n"
   ]
  },
  {
   "cell_type": "code",
   "execution_count": 26,
   "metadata": {},
   "outputs": [
    {
     "data": {
      "image/png": "[encoded data removed]",
      "text/plain": [
       "<Figure size 432x288 with 1 Axes>"
      ]
     },
     "metadata": {
      "needs_background": "light"
     },
     "output_type": "display_data"
    }
   ],
   "source": [
    "show(big_image)"
   ]
  },
  {
   "cell_type": "code",
   "execution_count": 57,
   "metadata": {},
   "outputs": [
    {
     "data": {
      "text/plain": [
       "33.01176470588263"
      ]
     },
     "execution_count": 57,
     "metadata": {},
     "output_type": "execute_result"
    }
   ],
   "source": [
    "calc_diff2(19, 10)"
   ]
  }
 ],
 "metadata": {
  "kernelspec": {
   "display_name": "Python 3",
   "language": "python",
   "name": "python3"
  },
  "language_info": {
   "codemirror_mode": {
    "name": "ipython",
    "version": 3
   },
   "file_extension": ".py",
   "mimetype": "text/x-python",
   "name": "python",
   "nbconvert_exporter": "python",
   "pygments_lexer": "ipython3",
   "version": "3.7.3"
  }
 },
 "nbformat": 4,
 "nbformat_minor": 2
}
